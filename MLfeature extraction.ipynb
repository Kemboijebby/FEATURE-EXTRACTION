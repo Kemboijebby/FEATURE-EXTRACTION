{
 "cells": [
  {
   "cell_type": "markdown",
   "metadata": {},
   "source": [
    "Feature extraction is a technique used to reduce a large input data set into relevant features. This is done with dimensionality reduction to transform large input data into smaller, meaningful groups for processing.\n",
    "\n",
    "Feature Extraction aims to reduce the number of features in a dataset by creating new features from the existing ones (and then discarding the original features).\n",
    "\n",
    "BENEFITS\n",
    "Feature extraction can prove helpful when training a machine learning model. It leads to:\n",
    "\n",
    "    A Boost in training speed\n",
    "    An improvement in model accuracy\n",
    "    A reduction in risk of overfitting\n",
    "    A rise in model explainability\n",
    "    Better data visualization\n",
    "\n",
    "APPLICATIONS\n",
    "Due to its multiple benefits, feature extraction plays an important role in many areas, such as:\n",
    "\n",
    "    Pattern recognition\n",
    "    Image processing\n",
    "    The bag of words model in Natural language processing\n",
    "    Autoencoders in unsupervised learning\n",
    "\n",
    "FEATURE EXTRACTION TECHNIQUES\n",

    "    Principle Components Analysis (PCA)\n",

    "    Independent Component Analysis (ICA)\n",

    "    Linear Discriminant Analysis (LDA)\n",

    "    Locally Linear Embedding (LLE)\n",

    "    t-distributed Stochastic Neighbor Embedding (t-SNE)\n",
    "\n"

More after introduction to supervised machine learning
   ]
  },
  {
   "cell_type": "code",
   "execution_count": null,
   "metadata": {},
   "outputs": [],
   "source": []
  },
  {
   "cell_type": "markdown",
   "metadata": {},
   "source": []
  }
 ],
 "metadata": {
  "language_info": {
   "name": "python"
  },
  "orig_nbformat": 4
 },
 "nbformat": 4,
 "nbformat_minor": 2
}
