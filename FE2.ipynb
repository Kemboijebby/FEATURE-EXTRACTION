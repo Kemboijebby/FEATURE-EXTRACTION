{
 "cells": [
  {
   "cell_type": "markdown",
   "metadata": {},
   "source": [
    "In pandas, a popular data manipulation library in Python, you can perform feature extraction by applying various methods and functions to manipulate and transform your data. Here are a few examples:"
   ]
  },
  {
   "cell_type": "code",
   "execution_count": null,
   "metadata": {},
   "outputs": [],
   "source": [
    "#1.selecting columns\n",
    "import pandas as pd\n",
    "\n",
    "# Create a DataFrame\n",
    "df = pd.DataFrame({'A': [1, 2, 3], 'B': [4, 5, 6], 'C': [7, 8, 9]})\n",
    "df\n",
    "# Extract column 'A'\n",
    "column_A = df['A']\n",
    "print(column_A)"
   ]
  },
  {
   "cell_type": "code",
   "execution_count": null,
   "metadata": {},
   "outputs": [],
   "source": [
    "#2.creating new columns\n",
    "#we created column D from A and B\n",
    "df['D'] = df['A'] + df['B']\n",
    "print(df)"
   ]
  },
  {
   "cell_type": "markdown",
   "metadata": {},
   "source": [
    "3.Applying Functions:\n",
    "\n",
    " You can apply custom functions to extract features from your data. For instance, you can use the apply method to apply a function element-wise to a column or DataFrame. "
   ]
  },
  {
   "cell_type": "code",
   "execution_count": null,
   "metadata": {},
   "outputs": [],
   "source": [
    "\n",
    "import numpy as np\n",
    "\n",
    "# Define a function to extract square root\n",
    "def sqrt_func(x):\n",
    "    return np.sqrt(x)\n",
    "\n",
    "# Apply the function to column 'A' and create a new column 'E'\n",
    "df['E'] = df['A'].apply(sqrt_func)\n",
    "print(df)"
   ]
  },
  {
   "cell_type": "markdown",
   "metadata": {},
   "source": [
    "4.String Operations:\n",
    "\n",
    " If you have text data in your DataFrame, you can use string operations to extract features. Pandas provides various string methods that you can apply to string columns. "
   ]
  },
  {
   "cell_type": "code",
   "execution_count": null,
   "metadata": {},
   "outputs": [],
   "source": [
    "# Create a DataFrame with string data\n",
    "df_text = pd.DataFrame({'F': ['Hello', 'World', 'data']})\n",
    "\n",
    "# Extract the length of strings in column 'F' and create a new column 'Length'\n",
    "df_text['Length'] = df_text['F'].str.len()\n",
    "print(df_text)"
   ]
  },
  {
   "cell_type": "markdown",
   "metadata": {},
   "source": [
    "In feature extraction, the outcome or target variable to be predicted is not directly related to the process itself. Feature extraction is primarily focused on transforming the input data into a more compact and informative representation by selecting or creating relevant features.\n",
    "\n",
    "The outcome or target variable is typically part of the larger machine learning or data analysis pipeline. Once the feature extraction process is completed and you have obtained a set of meaningful features, you would typically use these features along with the target variable to train a machine learning model."
   ]
  },
  {
   "cell_type": "code",
   "execution_count": null,
   "metadata": {},
   "outputs": [],
   "source": []
  }
 ],
 "metadata": {
  "language_info": {
   "name": "python"
  },
  "orig_nbformat": 4
 },
 "nbformat": 4,
 "nbformat_minor": 2
}
